{
 "cells": [
  {
   "cell_type": "markdown",
   "metadata": {},
   "source": [
    "This is an example to help scrape individual match data from fbref "
   ]
  },
  {
   "cell_type": "code",
   "execution_count": 71,
   "metadata": {},
   "outputs": [],
   "source": [
    "import pandas as pd\n",
    "import re\n",
    "import requests\n",
    "from bs4 import BeautifulSoup\n",
    "import warnings\n",
    "warnings.filterwarnings('ignore')"
   ]
  },
  {
   "cell_type": "code",
   "execution_count": 72,
   "metadata": {},
   "outputs": [],
   "source": [
    "prem_df = pd.read_csv('Datasets/prem_match_data_example.csv')\n",
    "match = prem_df.loc[(prem_df['Home'] == 'Chelsea') & (prem_df['Away'] == 'Arsenal')].iloc[0]\n",
    "match_url = match['Match Report']"
   ]
  },
  {
   "cell_type": "code",
   "execution_count": 73,
   "metadata": {},
   "outputs": [],
   "source": [
    "response = requests.get(match_url)\n",
    "soup = BeautifulSoup(response.content, 'html.parser')"
   ]
  },
  {
   "cell_type": "markdown",
   "metadata": {},
   "source": [
    "Below is how to access existing information from the basic scraping that we already did"
   ]
  },
  {
   "cell_type": "code",
   "execution_count": 74,
   "metadata": {},
   "outputs": [],
   "source": [
    "## Existing information ##\n",
    "\n",
    "# Week\n",
    "week = match['Wk']\n",
    "# Date\n",
    "date = match['Date']\n",
    "# Home\n",
    "home = match['Home']\n",
    "# Home Score\n",
    "home_score = match['HomeScore']\n",
    "# Home xG\n",
    "home_xG = match['xGHome']\n",
    "# Away\n",
    "away = match['Away']\n",
    "# Away Score\n",
    "away_score = match['AwayScore']\n",
    "# Away xG\n",
    "away_xG = match['xGAway']\n",
    "# Referee\n",
    "referee = match['Referee']"
   ]
  },
  {
   "cell_type": "code",
   "execution_count": 75,
   "metadata": {},
   "outputs": [
    {
     "name": "stdout",
     "output_type": "stream",
     "text": [
      "Chelsea\n",
      "Arsenal\n",
      "https://fbref.com/en/matches/af9dc838/North-West-London-Derby-Chelsea-Arsenal-November-6-2022-Premier-League\n"
     ]
    }
   ],
   "source": [
    "print(home)\n",
    "print(away)\n",
    "print(match_url)"
   ]
  },
  {
   "cell_type": "markdown",
   "metadata": {},
   "source": [
    "Now we find some additional information"
   ]
  },
  {
   "cell_type": "code",
   "execution_count": 76,
   "metadata": {},
   "outputs": [],
   "source": [
    "# team stats (home, away)\n",
    "\n",
    "def possession(soup):\n",
    "    team_stats = soup.find('div', id='team_stats').find_all('strong')\n",
    "    return team_stats[0].text, team_stats[1].text\n",
    "\n",
    "def pass_completed(soup):\n",
    "    team_stats = soup.find('div', id='team_stats').find_all('strong')\n",
    "    team_stats1 = team_stats[2].previous_sibling\n",
    "    team_stats2 = team_stats[3].next_sibling\n",
    "    return team_stats1[:team_stats.index('of') - 1], team_stats2[3:team_stats.index('of') - 1]\n",
    "\n",
    "def pass_acc(soup):\n",
    "    team_stats = soup.find('div', id='team_stats').find_all('strong')\n",
    "    return team_stats[2].text, team_stats[3].text\n",
    "\n",
    "def shots_on_target(soup):\n",
    "    team_stats = soup.find('div', id='team_stats').find_all('strong')\n",
    "    team_stats1 = team_stats[4].previous_sibling\n",
    "    team_stats2 = team_stats[5].next_sibling\n",
    "    return team_stats1[:team_stats.index('of') - 1], team_stats2[4:team_stats.index('of') - 1]\n",
    "\n",
    "def shot_acc(soup):\n",
    "    team_stats = soup.find('div', id='team_stats').find_all('strong')\n",
    "    return team_stats[4].text, team_stats[5].text\n",
    "\n",
    "def saves(soup):\n",
    "    team_stats = soup.find('div', id='team_stats').find_all('strong')\n",
    "    team_stats1 = team_stats[6].previous_sibling\n",
    "    team_stats2 = team_stats[7].next_sibling\n",
    "    return team_stats1[:team_stats.index('of') - 1], team_stats2[4:team_stats.index('of') - 1]\n",
    "\n",
    "def save_pct(soup):\n",
    "    team_stats = soup.find('div', id='team_stats').find_all('strong')\n",
    "    return team_stats[6].text, team_stats[7].text\n"
   ]
  },
  {
   "cell_type": "code",
   "execution_count": 77,
   "metadata": {},
   "outputs": [],
   "source": [
    "# managers (home, away)\n",
    "def manager(soup):\n",
    "    managers = soup.find_all('strong', text=re.compile('Manager'))\n",
    "    return managers[0].next_sibling[2:], managers[1].next_sibling[2:]"
   ]
  },
  {
   "cell_type": "code",
   "execution_count": 96,
   "metadata": {},
   "outputs": [],
   "source": [
    "# more team stats (home, away)\n",
    "def fouls(soup):\n",
    "    team_stats2 = soup.find('div', id='team_stats_extra').find_all('div')\n",
    "    return team_stats2[4].text, team_stats2[6].text\n",
    "\n",
    "def corners(soup):\n",
    "    team_stats2 = soup.find('div', id='team_stats_extra').find_all('div')\n",
    "    return team_stats2[7].text, team_stats2[9].text\n",
    "\n",
    "def crosses(soup):\n",
    "    team_stats2 = soup.find('div', id='team_stats_extra').find_all('div')\n",
    "    return team_stats2[10].text, team_stats2[12].text\n",
    "\n",
    "def touches(soup):\n",
    "    team_stats2 = soup.find('div', id='team_stats_extra').find_all('div')\n",
    "    return team_stats2[13].text, team_stats2[15].text\n",
    "\n",
    "def tackles(soup):\n",
    "    team_stats2 = soup.find('div', id='team_stats_extra').find_all('div')\n",
    "    return team_stats2[20].text, team_stats2[22].text\n",
    "\n",
    "def interceptions(soup):\n",
    "    team_stats2 = soup.find('div', id='team_stats_extra').find_all('div')\n",
    "    return team_stats2[23].text, team_stats2[25].text\n",
    "\n",
    "def aerials_won(soup):\n",
    "    team_stats2 = soup.find('div', id='team_stats_extra').find_all('div')\n",
    "    return team_stats2[26].text, team_stats2[28].text\n",
    "\n",
    "def clearances(soup):\n",
    "    team_stats2 = soup.find('div', id='team_stats_extra').find_all('div')\n",
    "    return team_stats2[29].text, team_stats2[31].text\n",
    "\n",
    "def offsides(soup):\n",
    "    team_stats2 = soup.find('div', id='team_stats_extra').find_all('div')\n",
    "    return team_stats2[36].text, team_stats2[38].text\n",
    "\n",
    "def goal_kicks(soup):\n",
    "    team_stats2 = soup.find('div', id='team_stats_extra').find_all('div')\n",
    "    return team_stats2[39].text, team_stats2[41].text\n",
    "\n",
    "def throw_ins(soup):\n",
    "    team_stats2 = soup.find('div', id='team_stats_extra').find_all('div')\n",
    "    return team_stats2[42].text, team_stats2[44].text\n",
    "\n",
    "def long_balls(soup):\n",
    "    team_stats2 = soup.find('div', id='team_stats_extra').find_all('div')\n",
    "    return team_stats2[45].text, team_stats2[47].text"
   ]
  }
 ],
 "metadata": {
  "kernelspec": {
   "display_name": "Python 3",
   "language": "python",
   "name": "python3"
  },
  "language_info": {
   "codemirror_mode": {
    "name": "ipython",
    "version": 3
   },
   "file_extension": ".py",
   "mimetype": "text/x-python",
   "name": "python",
   "nbconvert_exporter": "python",
   "pygments_lexer": "ipython3",
   "version": "3.9.1"
  },
  "orig_nbformat": 4
 },
 "nbformat": 4,
 "nbformat_minor": 2
}
